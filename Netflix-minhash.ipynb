{
 "cells": [
  {
   "cell_type": "markdown",
   "metadata": {},
   "source": [
    "## 1. Dependencies"
   ]
  },
  {
   "cell_type": "code",
   "execution_count": 1,
   "metadata": {},
   "outputs": [],
   "source": [
    "import os\n",
    "import sys\n",
    "import os.path as osp\n",
    "\n",
    "import numpy as np\n",
    "import pandas as pd\n",
    "from tqdm.auto import tqdm\n",
    "\n",
    "from datasketch import MinHashLSHForest, MinHash"
   ]
  },
  {
   "cell_type": "markdown",
   "metadata": {},
   "source": [
    "## 2. Data Loading and Preprocessing"
   ]
  },
  {
   "cell_type": "markdown",
   "metadata": {},
   "source": [
    "### 2.1 Data Loading"
   ]
  },
  {
   "cell_type": "code",
   "execution_count": 2,
   "metadata": {},
   "outputs": [],
   "source": [
    "## data root\n",
    "data_dir = 'archive'\n",
    "\n",
    "## file names\n",
    "file_names = ['combined_data_{}.txt'.format(i) for i in range(1, 5)]\n",
    "\n",
    "## Read only the first file combine_data_1\n",
    "df = pd.read_csv(osp.join(data_dir, file_names[0]), header = None, names = ['Cust_Id', 'Rating'], usecols = [0,1])"
   ]
  },
  {
   "cell_type": "code",
   "execution_count": 3,
   "metadata": {},
   "outputs": [
    {
     "data": {
      "text/html": [
       "<div>\n",
       "<style scoped>\n",
       "    .dataframe tbody tr th:only-of-type {\n",
       "        vertical-align: middle;\n",
       "    }\n",
       "\n",
       "    .dataframe tbody tr th {\n",
       "        vertical-align: top;\n",
       "    }\n",
       "\n",
       "    .dataframe thead th {\n",
       "        text-align: right;\n",
       "    }\n",
       "</style>\n",
       "<table border=\"1\" class=\"dataframe\">\n",
       "  <thead>\n",
       "    <tr style=\"text-align: right;\">\n",
       "      <th></th>\n",
       "      <th>Cust_Id</th>\n",
       "      <th>Rating</th>\n",
       "    </tr>\n",
       "  </thead>\n",
       "  <tbody>\n",
       "    <tr>\n",
       "      <th>0</th>\n",
       "      <td>1:</td>\n",
       "      <td>NaN</td>\n",
       "    </tr>\n",
       "    <tr>\n",
       "      <th>1</th>\n",
       "      <td>1488844</td>\n",
       "      <td>3.0</td>\n",
       "    </tr>\n",
       "    <tr>\n",
       "      <th>2</th>\n",
       "      <td>822109</td>\n",
       "      <td>5.0</td>\n",
       "    </tr>\n",
       "    <tr>\n",
       "      <th>3</th>\n",
       "      <td>885013</td>\n",
       "      <td>4.0</td>\n",
       "    </tr>\n",
       "    <tr>\n",
       "      <th>4</th>\n",
       "      <td>30878</td>\n",
       "      <td>4.0</td>\n",
       "    </tr>\n",
       "  </tbody>\n",
       "</table>\n",
       "</div>"
      ],
      "text/plain": [
       "   Cust_Id  Rating\n",
       "0       1:     NaN\n",
       "1  1488844     3.0\n",
       "2   822109     5.0\n",
       "3   885013     4.0\n",
       "4    30878     4.0"
      ]
     },
     "execution_count": 3,
     "metadata": {},
     "output_type": "execute_result"
    }
   ],
   "source": [
    "## Preview\n",
    "df.head()"
   ]
  },
  {
   "cell_type": "markdown",
   "metadata": {},
   "source": [
    "### 2.2 Data Preprocessing\n",
    "\n",
    "Convert the dataframe with columns: 'Cust_Id', 'Rating', 'Movie_Id'"
   ]
  },
  {
   "cell_type": "code",
   "execution_count": 4,
   "metadata": {},
   "outputs": [
    {
     "name": "stdout",
     "output_type": "stream",
     "text": [
      "(4499, 2)\n"
     ]
    },
    {
     "data": {
      "application/vnd.jupyter.widget-view+json": {
       "model_id": "3b6a773e17824ebb8c93d4f978bee369",
       "version_major": 2,
       "version_minor": 0
      },
      "text/plain": [
       "HBox(children=(FloatProgress(value=1.0, bar_style='info', max=1.0), HTML(value='')))"
      ]
     },
     "metadata": {},
     "output_type": "display_data"
    },
    {
     "name": "stdout",
     "output_type": "stream",
     "text": [
      "\n",
      "-Dataset examples-\n"
     ]
    },
    {
     "data": {
      "text/html": [
       "<div>\n",
       "<style scoped>\n",
       "    .dataframe tbody tr th:only-of-type {\n",
       "        vertical-align: middle;\n",
       "    }\n",
       "\n",
       "    .dataframe tbody tr th {\n",
       "        vertical-align: top;\n",
       "    }\n",
       "\n",
       "    .dataframe thead th {\n",
       "        text-align: right;\n",
       "    }\n",
       "</style>\n",
       "<table border=\"1\" class=\"dataframe\">\n",
       "  <thead>\n",
       "    <tr style=\"text-align: right;\">\n",
       "      <th></th>\n",
       "      <th>Cust_Id</th>\n",
       "      <th>Rating</th>\n",
       "      <th>Movie_Id</th>\n",
       "    </tr>\n",
       "  </thead>\n",
       "  <tbody>\n",
       "    <tr>\n",
       "      <th>1</th>\n",
       "      <td>1488844</td>\n",
       "      <td>3.0</td>\n",
       "      <td>1</td>\n",
       "    </tr>\n",
       "    <tr>\n",
       "      <th>2</th>\n",
       "      <td>822109</td>\n",
       "      <td>5.0</td>\n",
       "      <td>1</td>\n",
       "    </tr>\n",
       "    <tr>\n",
       "      <th>3</th>\n",
       "      <td>885013</td>\n",
       "      <td>4.0</td>\n",
       "      <td>1</td>\n",
       "    </tr>\n",
       "    <tr>\n",
       "      <th>4</th>\n",
       "      <td>30878</td>\n",
       "      <td>4.0</td>\n",
       "      <td>1</td>\n",
       "    </tr>\n",
       "    <tr>\n",
       "      <th>5</th>\n",
       "      <td>823519</td>\n",
       "      <td>3.0</td>\n",
       "      <td>1</td>\n",
       "    </tr>\n",
       "  </tbody>\n",
       "</table>\n",
       "</div>"
      ],
      "text/plain": [
       "   Cust_Id  Rating  Movie_Id\n",
       "1  1488844     3.0         1\n",
       "2   822109     5.0         1\n",
       "3   885013     4.0         1\n",
       "4    30878     4.0         1\n",
       "5   823519     3.0         1"
      ]
     },
     "execution_count": 4,
     "metadata": {},
     "output_type": "execute_result"
    }
   ],
   "source": [
    "## Find the index of movie id\n",
    "df_nan = pd.DataFrame(pd.isnull(df.Rating))\n",
    "df_nan = df_nan[df_nan['Rating'] == True]\n",
    "df_nan = df_nan.reset_index()\n",
    "print(df_nan.shape)\n",
    "df_nan.head()\n",
    "\n",
    "\n",
    "movie_np = []\n",
    "movie_id = 1\n",
    "\n",
    "for i,j in tqdm(zip(df_nan['index'][1:],df_nan['index'][:-1])):\n",
    "    # numpy approach\n",
    "    temp = np.full((1,i-j-1), movie_id)\n",
    "    movie_np = np.append(movie_np, temp)\n",
    "    movie_id += 1\n",
    "    \n",
    "# Account for last record and corresponding length\n",
    "# numpy approach\n",
    "last_record = np.full((1,len(df) - df_nan.iloc[-1, 0] - 1),movie_id)\n",
    "movie_np = np.append(movie_np, last_record)\n",
    "\n",
    "# remove those Movie ID rows\n",
    "df = df[pd.notnull(df['Rating'])]\n",
    "\n",
    "df['Movie_Id'] = movie_np.astype(int)\n",
    "df['Cust_Id'] = df['Cust_Id'].astype(int)\n",
    "print('-Dataset examples-')\n",
    "df.head()"
   ]
  },
  {
   "cell_type": "markdown",
   "metadata": {},
   "source": [
    "Create two new dataframes: group by 'Cust_Id' and 'Movie_id' separately."
   ]
  },
  {
   "cell_type": "code",
   "execution_count": 5,
   "metadata": {},
   "outputs": [
    {
     "name": "stdout",
     "output_type": "stream",
     "text": [
      "(470758,)\n"
     ]
    },
    {
     "data": {
      "text/plain": [
       "Cust_Id\n",
       "6          [30, 157, 173, 175, 191, 197, 241, 295, 299, 3...\n",
       "7          [8, 28, 30, 83, 175, 185, 191, 257, 273, 283, ...\n",
       "8          [1144, 1202, 1428, 1518, 1719, 1799, 1843, 190...\n",
       "10         [175, 191, 197, 285, 299, 468, 473, 483, 571, ...\n",
       "25                                    [178, 761, 3427, 4432]\n",
       "                                 ...                        \n",
       "2649404    [78, 299, 550, 1145, 1406, 1428, 2152, 2174, 2...\n",
       "2649409    [191, 197, 334, 457, 1073, 1220, 1918, 2372, 2...\n",
       "2649421                                   [1877, 2152, 3078]\n",
       "2649426    [17, 28, 30, 111, 197, 216, 252, 273, 357, 406...\n",
       "2649429    [30, 143, 199, 213, 452, 457, 483, 533, 571, 6...\n",
       "Name: Movie_Id, Length: 470758, dtype: object"
      ]
     },
     "execution_count": 5,
     "metadata": {},
     "output_type": "execute_result"
    }
   ],
   "source": [
    "## group by user\n",
    "df_user = df.groupby('Cust_Id')['Movie_Id'].apply(list)\n",
    "\n",
    "print(df_user.shape)\n",
    "df_user"
   ]
  },
  {
   "cell_type": "code",
   "execution_count": 6,
   "metadata": {},
   "outputs": [
    {
     "name": "stdout",
     "output_type": "stream",
     "text": [
      "(4499,)\n"
     ]
    },
    {
     "data": {
      "text/plain": [
       "Movie_Id\n",
       "1       [1488844, 822109, 885013, 30878, 823519, 89398...\n",
       "2       [2059652, 1666394, 1759415, 1959936, 998862, 2...\n",
       "3       [1025579, 712664, 1331154, 2632461, 44937, 656...\n",
       "4       [1065039, 1544320, 410199, 732556, 1201419, 66...\n",
       "5       [1745265, 885013, 1997470, 30878, 840543, 2477...\n",
       "                              ...                        \n",
       "4495    [885635, 1436640, 2625420, 2343417, 1800117, 7...\n",
       "4496    [1917746, 364518, 1392773, 1527030, 1990901, 5...\n",
       "4497    [1224344, 1395430, 2630287, 306466, 466862, 32...\n",
       "4498    [539735, 1645486, 247794, 2454205, 497196, 103...\n",
       "4499    [66358, 1916420, 327122, 769, 1684516, 567279,...\n",
       "Name: Cust_Id, Length: 4499, dtype: object"
      ]
     },
     "execution_count": 6,
     "metadata": {},
     "output_type": "execute_result"
    }
   ],
   "source": [
    "## group by movie\n",
    "df_movie = df.groupby('Movie_Id')['Cust_Id'].apply(list)\n",
    "\n",
    "print(df_movie.shape)\n",
    "df_movie"
   ]
  },
  {
   "cell_type": "markdown",
   "metadata": {},
   "source": [
    "## 3. MinHash "
   ]
  },
  {
   "cell_type": "markdown",
   "metadata": {},
   "source": [
    "Helper function: Calculate jaccard similarity"
   ]
  },
  {
   "cell_type": "code",
   "execution_count": 11,
   "metadata": {},
   "outputs": [
    {
     "name": "stdout",
     "output_type": "stream",
     "text": [
      "0.25\n"
     ]
    }
   ],
   "source": [
    "def jaccard(list1, list2):\n",
    "    intersection = len(list(set(list1).intersection(list2)))\n",
    "    union = (len(list1) + len(list2)) - intersection\n",
    "    return float(intersection) / union\n",
    "la = [0,1,2]\n",
    "lb = [1,5]\n",
    "print(jaccard(la, lb))"
   ]
  },
  {
   "cell_type": "markdown",
   "metadata": {},
   "source": [
    "### 3.1 User-User Similarity: Find similar users based on movies they have watched"
   ]
  },
  {
   "cell_type": "markdown",
   "metadata": {},
   "source": [
    "Build LSH"
   ]
  },
  {
   "cell_type": "code",
   "execution_count": null,
   "metadata": {},
   "outputs": [],
   "source": [
    "random_seed = 100\n",
    "\n",
    "# Initialize the LSH\n",
    "start_time = time.time()\n",
    "forest = MinHashLSHForest(num_perm=128)\n",
    "\n",
    "M = {}\n",
    "\n",
    "for i in tqdm(range(len(df_user))):\n",
    "    \n",
    "    user_id = df_user.index[i]\n",
    "\n",
    "    users = df_user[user_id]\n",
    "    M[user_id] = MinHash(seed = random_seed, num_perm = 128)\n",
    "    \n",
    "    for user in users:\n",
    "        M[user_id].update(str(user).encode('utf8'))\n",
    "    \n",
    "    forest.add(user_id, M[user_id])\n",
    "\n",
    "print(\"--- %s seconds ---\" % (time.time() - start_time))\n",
    "\n",
    "forest.index()\n"
   ]
  },
  {
   "cell_type": "markdown",
   "metadata": {},
   "source": [
    "Query from LSH. Given a user id, find similar users."
   ]
  },
  {
   "cell_type": "code",
   "execution_count": null,
   "metadata": {},
   "outputs": [],
   "source": [
    "## Query from lsh: Given a user id, find similar users\n",
    "\n",
    "## user id\n",
    "q = df_user.index[0]\n",
    "print('User ID:', q, '\\n')\n",
    "## num of neighbors (including itself)\n",
    "N = 11\n",
    "\n",
    "\n",
    "result = forest.query(M[q], N)\n",
    "print('Neighbor ids:', result)\n",
    "\n",
    "jaccard_real = []\n",
    "jaccard_predict = []\n",
    "\n",
    "## find real jaccard similarity and predicted similarity\n",
    "for idx, i in enumerate(result):   \n",
    "\n",
    "\n",
    "        \n",
    "    print('Actually jaccard similarity: ', jaccard(df_user[q], df_user[i]))\n",
    "    jaccard_real.append(jaccard(df_user[q], df_user[i]))\n",
    "    print('Predicted Similarity:', M[q].jaccard(M[i]) , '\\n')\n",
    "    jaccard_predict.append(M[q].jaccard(M[i]))"
   ]
  },
  {
   "cell_type": "markdown",
   "metadata": {},
   "source": [
    "Find real neighbors of this user"
   ]
  },
  {
   "cell_type": "code",
   "execution_count": 13,
   "metadata": {},
   "outputs": [
    {
     "data": {
      "application/vnd.jupyter.widget-view+json": {
       "model_id": "bc5b8adc9df0465e87d7acfd0eb32404",
       "version_major": 2,
       "version_minor": 0
      },
      "text/plain": [
       "HBox(children=(FloatProgress(value=0.0, max=470758.0), HTML(value='')))"
      ]
     },
     "metadata": {},
     "output_type": "display_data"
    },
    {
     "name": "stdout",
     "output_type": "stream",
     "text": [
      "\n",
      "[(14936, 0.36199095022624433), (347549, 0.3452914798206278), (2570388, 0.34177215189873417), (11676, 0.33766233766233766), (1502513, 0.3346938775510204), (1170278, 0.3346774193548387), (115668, 0.3333333333333333), (248362, 0.3320610687022901), (2267168, 0.33191489361702126), (1120757, 0.32857142857142857)]\n"
     ]
    }
   ],
   "source": [
    "q = df_user.index[0]\n",
    "\n",
    "neighbors = []\n",
    "for i in tqdm(range(len(df_user))):\n",
    "    \n",
    "    u_id = df_user.index[i]\n",
    "    \n",
    "    if u_id != q:\n",
    "        sim = jaccard(df_user[q], df_user[u_id])\n",
    "        \n",
    "        neighbors.append((u_id, sim))\n",
    "        \n",
    "neighbors.sort(key = lambda x: -x[1])\n",
    "\n",
    "print(neighbors[:10])"
   ]
  },
  {
   "cell_type": "code",
   "execution_count": null,
   "metadata": {},
   "outputs": [],
   "source": []
  }
 ],
 "metadata": {
  "kernelspec": {
   "display_name": "Python 3",
   "language": "python",
   "name": "python3"
  },
  "language_info": {
   "codemirror_mode": {
    "name": "ipython",
    "version": 3
   },
   "file_extension": ".py",
   "mimetype": "text/x-python",
   "name": "python",
   "nbconvert_exporter": "python",
   "pygments_lexer": "ipython3",
   "version": "3.8.3"
  }
 },
 "nbformat": 4,
 "nbformat_minor": 4
}
